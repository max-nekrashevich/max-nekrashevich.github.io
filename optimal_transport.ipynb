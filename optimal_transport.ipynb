{
 "cells": [
  {
   "attachments": {},
   "cell_type": "markdown",
   "metadata": {
    "slideshow": {
     "slide_type": "slide"
    }
   },
   "source": [
    "# Optimization methods for Optimal Transport\n",
    "\n",
    "## Maksim Nekrashevich\n"
   ]
  },
  {
   "cell_type": "code",
   "execution_count": 1,
   "metadata": {
    "slideshow": {
     "slide_type": "notes"
    }
   },
   "outputs": [],
   "source": [
    "import matplotlib.pyplot as plt\n",
    "import cvxpy as cp\n",
    "import numpy as np\n",
    "import ot\n",
    "import pandas as pd\n",
    "from scipy.special import logsumexp\n",
    "from scipy.stats import dirichlet"
   ]
  },
  {
   "attachments": {},
   "cell_type": "markdown",
   "metadata": {
    "slideshow": {
     "slide_type": "slide"
    }
   },
   "source": [
    "## Kantorovich formulation of OT"
   ]
  },
  {
   "attachments": {},
   "cell_type": "markdown",
   "metadata": {
    "slideshow": {
     "slide_type": "subslide"
    }
   },
   "source": [
    "$\\mu$, $\\nu$ - pobability measures defined on $X$, $Y$ respectively. (In general, $X$, $Y$ - continuous, but we assume them to be discrete.)\n",
    "\n",
    "$\\Pi(\\mu, \\nu)$ - the space of all couplings of $\\mu$, $\\nu$, i.e., measures $\\pi$ on $X \\times Y$, such that $\\int_Y d\\pi = d\\mu$, $\\int_X d\\pi = d\\nu$."
   ]
  },
  {
   "attachments": {},
   "cell_type": "markdown",
   "metadata": {
    "slideshow": {
     "slide_type": "fragment"
    }
   },
   "source": [
    "The relaxed OT problem is defined as follows:\n",
    "\n",
    "$$\n",
    "\\operatorname{OT}(\\mu, \\nu) = \\inf_{\\pi \\in \\Pi(\\mu,\\nu)}\\int\\limits_{X \\times Y} c(x, y)d\\pi(x, y)\n",
    "$$\n"
   ]
  },
  {
   "attachments": {},
   "cell_type": "markdown",
   "metadata": {
    "slideshow": {
     "slide_type": "fragment"
    }
   },
   "source": [
    "\n",
    "If $X$ and $Y$ are discrete, the distributions $\\mu, \\nu$ can be described by their probability vectors $p \\in S_1(m)$ and $q \\in S_1(n)$.\n",
    "The cost $c$ can now be represented by a matrix $C_{ij}$ as well as the measures $\\pi$. So the discrete OT problem has the following form:\n",
    "\n",
    "$$\n",
    "\\operatorname{OT}(p, q) = \\min_{\\pi \\in U(p, q)}\\langle C, \\pi\\rangle\n",
    "$$"
   ]
  },
  {
   "attachments": {},
   "cell_type": "markdown",
   "metadata": {
    "slideshow": {
     "slide_type": "slide"
    }
   },
   "source": [
    "## Initialize distributions"
   ]
  },
  {
   "cell_type": "code",
   "execution_count": 2,
   "metadata": {},
   "outputs": [],
   "source": [
    "def get_distribution(num_atoms: int) -> np.ndarray:\n",
    "    return dirichlet(np.ones(num_atoms)).rvs().flatten()"
   ]
  },
  {
   "cell_type": "code",
   "execution_count": 40,
   "metadata": {},
   "outputs": [],
   "source": [
    "np.random.seed(0)\n",
    "\n",
    "n = m = 128\n",
    "p = get_distribution(n)\n",
    "q = get_distribution(m)\n",
    "C = np.random.rand(n, m)"
   ]
  },
  {
   "cell_type": "code",
   "execution_count": 41,
   "metadata": {
    "slideshow": {
     "slide_type": "subslide"
    }
   },
   "outputs": [
    {
     "data": {
      "text/plain": [
       "0.022164624400878078"
      ]
     },
     "execution_count": 41,
     "metadata": {},
     "output_type": "execute_result"
    }
   ],
   "source": [
    "pi_true = ot.lp.emd(p, q, C)\n",
    "np.sum(pi_true * C)"
   ]
  },
  {
   "cell_type": "markdown",
   "metadata": {
    "slideshow": {
     "slide_type": "slide"
    }
   },
   "source": [
    "### Primal LP problem\n",
    "\n",
    "<!-- \\begin{align*}\n",
    "& \\sum_{i,j} C_{ij}\\pi_{ij} \\to \\min_{\\pi_{ij}} \\\\\n",
    "\\text{s.t.} & \\forall i \\: \\sum_j \\pi_{ij} = p_i \\\\\n",
    "& \\forall j \\: \\sum_i \\pi_{ij} = q_j \n",
    "\\end{align*} -->\n",
    "\n",
    "\\begin{align*}\n",
    "& \\langle C, \\pi \\rangle \\to \\min_{\\pi} \\\\\n",
    "\\text{s.t.} \\quad & \\pi \\geqslant 0 \\\\\n",
    "& \\pi \\mathbf{1}_n = p \\\\\n",
    "& \\mathbf{1}_m^T \\pi = q\n",
    "\\end{align*}"
   ]
  },
  {
   "cell_type": "code",
   "execution_count": 42,
   "metadata": {
    "slideshow": {
     "slide_type": "subslide"
    }
   },
   "outputs": [
    {
     "data": {
      "text/plain": [
       "0.022164624396027326"
      ]
     },
     "execution_count": 42,
     "metadata": {},
     "output_type": "execute_result"
    }
   ],
   "source": [
    "pi = cp.Variable((n, m))\n",
    "\n",
    "primal_lp = cp.Problem(\n",
    "    cp.Minimize(cp.sum(cp.multiply(C, pi))),\n",
    "    [cp.sum(pi, axis=0) == q, cp.sum(pi, axis=1) == p, pi >= 0]\n",
    ")\n",
    "primal_lp.solve()"
   ]
  },
  {
   "cell_type": "markdown",
   "metadata": {
    "slideshow": {
     "slide_type": "slide"
    }
   },
   "source": [
    "### Dual LP problem\n",
    "\n",
    "\\begin{align*}\n",
    "& \\langle p, f \\rangle + \\langle q, g \\rangle \\to \\max_{f, g} \\\\\n",
    "\\text{s.t.} & \\forall i, j \\: f_i + g_j \\leqslant C_{ij}\n",
    "\\end{align*}"
   ]
  },
  {
   "cell_type": "code",
   "execution_count": 43,
   "metadata": {
    "slideshow": {
     "slide_type": "subslide"
    }
   },
   "outputs": [
    {
     "data": {
      "text/plain": [
       "0.022164624395781693"
      ]
     },
     "execution_count": 43,
     "metadata": {},
     "output_type": "execute_result"
    }
   ],
   "source": [
    "f = cp.Variable(n)\n",
    "g = cp.Variable(m)\n",
    "\n",
    "dual_lp = cp.Problem(\n",
    "    cp.Maximize(p @ f + q @ g),\n",
    "    [cp.reshape(f, (n, 1)) + cp.reshape(g, (1, m)) <= C]\n",
    ")\n",
    "\n",
    "dual_lp.solve()"
   ]
  },
  {
   "attachments": {},
   "cell_type": "markdown",
   "metadata": {
    "slideshow": {
     "slide_type": "slide"
    }
   },
   "source": [
    "## Entropy-regularized OT"
   ]
  },
  {
   "attachments": {},
   "cell_type": "markdown",
   "metadata": {},
   "source": [
    "**Motivation:** Exact solution is computationally intensive.\n",
    "\n",
    "**Idea:** Find a *\"close-enough\"* solution, i.e. $\\tilde{\\pi}$ s.t. $\\langle C,\\tilde{\\pi}\\rangle - \\langle C,\\pi^*\\rangle \\leqslant \\varepsilon$.\n",
    "\n",
    "$$\n",
    "\\operatorname{OT_\\gamma}(p, q) = \\min_{\\pi \\in U(p, q)} \\langle C, \\pi\\rangle + \\gamma H(\\pi) \\text{, where } H(\\pi) = \\langle \\pi,\\log\\pi\\rangle\n",
    "$$"
   ]
  },
  {
   "attachments": {},
   "cell_type": "markdown",
   "metadata": {},
   "source": [
    "This problem is $\\gamma$-strongly-convex on $S_1(n)$ in $\\ell^1$-norm and therefore has a unique solution."
   ]
  },
  {
   "cell_type": "code",
   "execution_count": 44,
   "metadata": {
    "slideshow": {
     "slide_type": "notes"
    }
   },
   "outputs": [],
   "source": [
    "def get_B(C: np.ndarray, gamma: float):\n",
    "    def func(u: np.ndarray, v: np.ndarray) -> np.ndarray:\n",
    "        return np.exp(u[:, None] + v[None] - (C / gamma))\n",
    "    return func"
   ]
  },
  {
   "cell_type": "code",
   "execution_count": 45,
   "metadata": {
    "slideshow": {
     "slide_type": "skip"
    }
   },
   "outputs": [],
   "source": [
    "class OTAlgorithm:\n",
    "    pi: np.ndarray\n",
    "\n",
    "    def __init__(self, p: np.ndarray, q: np.ndarray,\n",
    "                 C: np.ndarray,  gamma: float) -> None:\n",
    "        assert np.all(p > 0) and np.isclose(p.sum(), 1)\n",
    "        assert np.all(q > 0) and np.isclose(q.sum(), 1)\n",
    "        assert np.all(C > 0)\n",
    "        assert gamma > 0\n",
    "        self.p = p\n",
    "        self.q = q\n",
    "        self.C = C\n",
    "        self.gamma = gamma\n",
    "\n",
    "    def step(self):\n",
    "        raise NotImplementedError()\n",
    "\n",
    "def run_algorithm(algorithm: OTAlgorithm, num_steps: int) -> pd.DataFrame:\n",
    "    history = []\n",
    "    for i in range(num_steps):\n",
    "        algorithm.step()\n",
    "        history.append({\n",
    "            \"step\": i,\n",
    "            \"cost\": np.sum(algorithm.pi * algorithm.C),\n",
    "            \"residual_p\": np.linalg.norm(algorithm.p - algorithm.pi.sum(axis=1), ord=1),\n",
    "            \"residual_q\": np.linalg.norm(algorithm.q - algorithm.pi.sum(axis=0), ord=1)\n",
    "        })\n",
    "    return pd.DataFrame(history).set_index(\"step\")\n"
   ]
  },
  {
   "attachments": {},
   "cell_type": "markdown",
   "metadata": {
    "slideshow": {
     "slide_type": "slide"
    }
   },
   "source": [
    "![Scheme for Sinkhorn algorithm](./sinkhorn_algorithm.png)"
   ]
  },
  {
   "cell_type": "code",
   "execution_count": 46,
   "metadata": {
    "slideshow": {
     "slide_type": "subslide"
    }
   },
   "outputs": [],
   "source": [
    "class Sinkhorn(OTAlgorithm):\n",
    "    def __init__(self, p: np.ndarray, q: np.ndarray,\n",
    "                 C: np.ndarray,  gamma: float) -> None:\n",
    "        super().__init__(p, q, C, gamma)\n",
    "        self.u = np.zeros_like(p)\n",
    "        self.v = np.zeros_like(q)\n",
    "        self.B = get_B(self.C, self.gamma)\n",
    "\n",
    "    @property\n",
    "    def pi(self) -> np.ndarray:\n",
    "        B = self.B(self.u, self.v)\n",
    "        return B / B.sum()\n",
    "\n",
    "    def step(self):\n",
    "        self.u = -logsumexp(self.v[:, None] - self.C.T / self.gamma, b=1/self.p, axis=0)\n",
    "        self.v = -logsumexp(self.u[:, None] - self.C / self.gamma, b=1/self.q, axis=0)"
   ]
  },
  {
   "cell_type": "code",
   "execution_count": 76,
   "metadata": {
    "slideshow": {
     "slide_type": "subslide"
    }
   },
   "outputs": [
    {
     "data": {
      "text/html": [
       "<div>\n",
       "<style scoped>\n",
       "    .dataframe tbody tr th:only-of-type {\n",
       "        vertical-align: middle;\n",
       "    }\n",
       "\n",
       "    .dataframe tbody tr th {\n",
       "        vertical-align: top;\n",
       "    }\n",
       "\n",
       "    .dataframe thead th {\n",
       "        text-align: right;\n",
       "    }\n",
       "</style>\n",
       "<table border=\"1\" class=\"dataframe\">\n",
       "  <thead>\n",
       "    <tr style=\"text-align: right;\">\n",
       "      <th></th>\n",
       "      <th>cost</th>\n",
       "      <th>residual_p</th>\n",
       "      <th>residual_q</th>\n",
       "    </tr>\n",
       "    <tr>\n",
       "      <th>step</th>\n",
       "      <th></th>\n",
       "      <th></th>\n",
       "      <th></th>\n",
       "    </tr>\n",
       "  </thead>\n",
       "  <tbody>\n",
       "    <tr>\n",
       "      <th>199</th>\n",
       "      <td>0.025079</td>\n",
       "      <td>4.302628e-12</td>\n",
       "      <td>4.951145e-16</td>\n",
       "    </tr>\n",
       "  </tbody>\n",
       "</table>\n",
       "</div>"
      ],
      "text/plain": [
       "          cost    residual_p    residual_q\n",
       "step                                      \n",
       "199   0.025079  4.302628e-12  4.951145e-16"
      ]
     },
     "execution_count": 76,
     "metadata": {},
     "output_type": "execute_result"
    },
    {
     "data": {
      "image/png": "[encoded data removed]",
      "text/plain": [
       "<Figure size 640x480 with 1 Axes>"
      ]
     },
     "metadata": {},
     "output_type": "display_data"
    }
   ],
   "source": [
    "sinkhorn = Sinkhorn(p, q, C, .01)\n",
    "sinkhorn_history = run_algorithm(sinkhorn, 200)\n",
    "sinkhorn_history.plot()\n",
    "sinkhorn_history.tail(1)"
   ]
  },
  {
   "attachments": {},
   "cell_type": "markdown",
   "metadata": {
    "slideshow": {
     "slide_type": "slide"
    }
   },
   "source": [
    "![Scheme for KL projection](./kl_projection.png)\n",
    "![KL projection step](./kl_projecion_step.png)"
   ]
  },
  {
   "cell_type": "code",
   "execution_count": 48,
   "metadata": {
    "slideshow": {
     "slide_type": "subslide"
    }
   },
   "outputs": [],
   "source": [
    "class KLProjection(OTAlgorithm):\n",
    "    def __init__(self, p: np.ndarray, q: np.ndarray,\n",
    "                 C: np.ndarray,  gamma: float) -> None:\n",
    "        super().__init__(p, q, C, gamma)\n",
    "        self.pi = np.exp(-C / gamma)\n",
    "\n",
    "    def step(self):\n",
    "        self.pi *= (self.q / self.pi.sum(0))[None]\n",
    "        self.pi *= (self.p / self.pi.sum(1))[:, None]"
   ]
  },
  {
   "cell_type": "code",
   "execution_count": 75,
   "metadata": {
    "slideshow": {
     "slide_type": "subslide"
    }
   },
   "outputs": [
    {
     "data": {
      "text/html": [
       "<div>\n",
       "<style scoped>\n",
       "    .dataframe tbody tr th:only-of-type {\n",
       "        vertical-align: middle;\n",
       "    }\n",
       "\n",
       "    .dataframe tbody tr th {\n",
       "        vertical-align: top;\n",
       "    }\n",
       "\n",
       "    .dataframe thead th {\n",
       "        text-align: right;\n",
       "    }\n",
       "</style>\n",
       "<table border=\"1\" class=\"dataframe\">\n",
       "  <thead>\n",
       "    <tr style=\"text-align: right;\">\n",
       "      <th></th>\n",
       "      <th>cost</th>\n",
       "      <th>residual_p</th>\n",
       "      <th>residual_q</th>\n",
       "    </tr>\n",
       "    <tr>\n",
       "      <th>step</th>\n",
       "      <th></th>\n",
       "      <th></th>\n",
       "      <th></th>\n",
       "    </tr>\n",
       "  </thead>\n",
       "  <tbody>\n",
       "    <tr>\n",
       "      <th>199</th>\n",
       "      <td>0.025079</td>\n",
       "      <td>1.024571e-16</td>\n",
       "      <td>4.581555e-12</td>\n",
       "    </tr>\n",
       "  </tbody>\n",
       "</table>\n",
       "</div>"
      ],
      "text/plain": [
       "          cost    residual_p    residual_q\n",
       "step                                      \n",
       "199   0.025079  1.024571e-16  4.581555e-12"
      ]
     },
     "execution_count": 75,
     "metadata": {},
     "output_type": "execute_result"
    },
    {
     "data": {
      "image/png": "[encoded data removed]",
      "text/plain": [
       "<Figure size 640x480 with 1 Axes>"
      ]
     },
     "metadata": {},
     "output_type": "display_data"
    }
   ],
   "source": [
    "kl_projection = KLProjection(p, q, C, .01)\n",
    "kl_projection_history = run_algorithm(kl_projection, 200)\n",
    "kl_projection_history.plot()\n",
    "kl_projection_history.tail(1)"
   ]
  },
  {
   "attachments": {},
   "cell_type": "markdown",
   "metadata": {
    "slideshow": {
     "slide_type": "slide"
    }
   },
   "source": [
    "## Advanced algorithms"
   ]
  },
  {
   "attachments": {},
   "cell_type": "markdown",
   "metadata": {
    "slideshow": {
     "slide_type": "slide"
    }
   },
   "source": [
    "![Greenkhorn Algorithm](./greeenkhorn.png)"
   ]
  },
  {
   "cell_type": "code",
   "execution_count": 107,
   "metadata": {
    "slideshow": {
     "slide_type": "subslide"
    }
   },
   "outputs": [],
   "source": [
    "class Greenkhorn(OTAlgorithm):\n",
    "    def __init__(self, p: np.ndarray, q: np.ndarray, C: np.ndarray, gamma: float) -> None:\n",
    "        super().__init__(p, q, C, gamma)\n",
    "        self.K = np.exp(-C / gamma)\n",
    "        self.u = np.ones(p.shape[0]) / p.shape[0]\n",
    "        self.v = np.ones(q.shape[0]) / q.shape[0]\n",
    "\n",
    "    @property\n",
    "    def pi(self):\n",
    "        return self.u[:, None] * self.K * self.v[None]\n",
    "\n",
    "    def step(self):\n",
    "        res_p = np.abs(self.pi.sum(1) - self.p)\n",
    "        res_q = np.abs(self.pi.sum(0) - self.q)\n",
    "        i = np.argmax(res_p)\n",
    "        j = np.argmax(res_q)\n",
    "        if res_p.max() > res_q.max():\n",
    "            self.u[i] = self.p[i] / (self.K[i] @ self.v)\n",
    "        else:\n",
    "            self.v[j] = self.q[j] / (self.u @ self.K[:, j])"
   ]
  },
  {
   "cell_type": "code",
   "execution_count": 108,
   "metadata": {
    "slideshow": {
     "slide_type": "subslide"
    }
   },
   "outputs": [
    {
     "data": {
      "text/html": [
       "<div>\n",
       "<style scoped>\n",
       "    .dataframe tbody tr th:only-of-type {\n",
       "        vertical-align: middle;\n",
       "    }\n",
       "\n",
       "    .dataframe tbody tr th {\n",
       "        vertical-align: top;\n",
       "    }\n",
       "\n",
       "    .dataframe thead th {\n",
       "        text-align: right;\n",
       "    }\n",
       "</style>\n",
       "<table border=\"1\" class=\"dataframe\">\n",
       "  <thead>\n",
       "    <tr style=\"text-align: right;\">\n",
       "      <th></th>\n",
       "      <th>cost</th>\n",
       "      <th>residual_p</th>\n",
       "      <th>residual_q</th>\n",
       "    </tr>\n",
       "    <tr>\n",
       "      <th>step</th>\n",
       "      <th></th>\n",
       "      <th></th>\n",
       "      <th></th>\n",
       "    </tr>\n",
       "  </thead>\n",
       "  <tbody>\n",
       "    <tr>\n",
       "      <th>1999</th>\n",
       "      <td>0.058004</td>\n",
       "      <td>4.226426e-07</td>\n",
       "      <td>4.378877e-07</td>\n",
       "    </tr>\n",
       "  </tbody>\n",
       "</table>\n",
       "</div>"
      ],
      "text/plain": [
       "          cost    residual_p    residual_q\n",
       "step                                      \n",
       "1999  0.058004  4.226426e-07  4.378877e-07"
      ]
     },
     "execution_count": 108,
     "metadata": {},
     "output_type": "execute_result"
    },
    {
     "data": {
      "image/png": "[encoded data removed]",
      "text/plain": [
       "<Figure size 640x480 with 1 Axes>"
      ]
     },
     "metadata": {},
     "output_type": "display_data"
    }
   ],
   "source": [
    "greenkhorn = Greenkhorn(p, q, C, .05)\n",
    "greenkhorn_history = run_algorithm(greenkhorn, 2000)\n",
    "greenkhorn_history.plot()\n",
    "greenkhorn_history.tail(1)"
   ]
  },
  {
   "attachments": {},
   "cell_type": "markdown",
   "metadata": {
    "slideshow": {
     "slide_type": "slide"
    }
   },
   "source": [
    "<!-- ![PDAAM](./pdaam.png) -->\n",
    "<img src=\"./pdaam.png\" alt=\"PDAAM\" width=\"70%\"/>"
   ]
  },
  {
   "cell_type": "code",
   "execution_count": 85,
   "metadata": {
    "slideshow": {
     "slide_type": "skip"
    }
   },
   "outputs": [],
   "source": [
    "from scipy.optimize import minimize_scalar\n",
    "\n",
    "class Phi:\n",
    "    def __init__(self, p: np.ndarray, q: np.ndarray, C: np.ndarray, gamma: float) -> None:\n",
    "        self.mu = np.concatenate([p, q])\n",
    "        self.C = C\n",
    "        self.gamma = gamma\n",
    "\n",
    "    def _get_B(self, eta: np.ndarray) -> np.ndarray:\n",
    "        u, v = np.split(eta, 2)\n",
    "        return np.exp(u[:, None] + v[None] - (self.C / self.gamma))\n",
    "\n",
    "    def __call__(self, eta: np.ndarray) -> float:\n",
    "        u, v = np.split(eta, 2)\n",
    "        return self.gamma * logsumexp(u[:, None] + v[None] - (self.C / self.gamma)) - eta @ self.mu\n",
    "\n",
    "    def grad(self, eta: np.ndarray) -> np.ndarray:\n",
    "        B = self._get_B(eta)\n",
    "        return np.concatenate([B.sum(1), B.sum(0)]) / B.sum() - self.mu\n",
    "\n",
    "class PDAAM(OTAlgorithm):\n",
    "    def __init__(self, p: np.ndarray, q: np.ndarray,\n",
    "                 C: np.ndarray,  gamma: float) -> None:\n",
    "        super().__init__(p, q, C, gamma)\n",
    "        self.functional = Phi(p, q, C, gamma)\n",
    "        self.A = self.a = 0\n",
    "        self.zeta = self.eta = np.zeros_like(self.functional.mu)\n",
    "        self.dim = self.p.shape[0]\n",
    "\n",
    "    def _f(self, t: float) -> float:\n",
    "        return self.functional(self.eta + t * (self.zeta - self.eta))\n",
    "\n",
    "    def step(self):\n",
    "        beta = minimize_scalar(self._f, bounds=(0, 1), method=\"bounded\").x\n",
    "        mu = beta * self.zeta - (1 - beta) * self.eta\n",
    "\n",
    "        u, v = np.split(mu, 2)\n",
    "        grad_u, grad_v = np.split(self.functional.grad(mu), 2)\n",
    "        if np.linalg.norm(grad_u) > np.linalg.norm(grad_v):\n",
    "            self.eta[:self.dim] = -logsumexp(v[:, None] - self.C.T / self.gamma, b=1/self.p, axis=0)\n",
    "        else:\n",
    "            self.eta[self.dim:] = -logsumexp(u[:, None] - self.C / self.gamma, b=1/self.q, axis=0)\n",
    "        print(self.eta)"
   ]
  },
  {
   "cell_type": "code",
   "execution_count": 67,
   "metadata": {
    "slideshow": {
     "slide_type": "skip"
    }
   },
   "outputs": [],
   "source": [
    "def round(pi, p, q):\n",
    "    P = np.minimum(p / pi.sum(1), 1)[:, None]\n",
    "    Q = np.minimum(q / pi.sum(0), 1)[None]\n",
    "    F = P * pi * Q\n",
    "    e_p = p - F.sum(1)\n",
    "    e_q = q - F.sum(0)\n",
    "\n",
    "    return F + np.outer(e_p, e_q) / np.abs(e_p).sum()\n",
    "\n",
    "def approximate_sinkhorn(C: np.ndarray, p: np.ndarray, q: np.ndarray, epsilon: float):\n",
    "    assert p.shape == q.shape\n",
    "    n = p.shape[0]\n",
    "    gamma = 1 / (4 * np.log(n))\n",
    "    epsilon /= 8 * C.max()\n",
    "\n",
    "    p_hat = (1 - epsilon / 8) * (p + epsilon / (8 * n))\n",
    "    q_hat = (1 - epsilon / 8) * (q + epsilon / (8 * n))\n",
    "\n",
    "    sinkhorn = Sinkhorn(p_hat, q_hat, C, gamma)\n",
    "\n",
    "    for _ in range(2000):\n",
    "        sinkhorn.step()\n",
    "        residual_p = np.linalg.norm(p_hat - sinkhorn.pi.sum(axis=1), ord=1)\n",
    "        residual_q = np.linalg.norm(q_hat - sinkhorn.pi.sum(axis=0), ord=1)\n",
    "        if residual_p + residual_q <= epsilon / 2:\n",
    "            break\n",
    "    return round(sinkhorn.pi, p, q)"
   ]
  }
 ],
 "metadata": {
  "celltoolbar": "Slideshow",
  "kernelspec": {
   "display_name": "Python 3 (ipykernel)",
   "language": "python",
   "name": "python3"
  },
  "language_info": {
   "codemirror_mode": {
    "name": "ipython",
    "version": 3
   },
   "file_extension": ".py",
   "mimetype": "text/x-python",
   "name": "python",
   "nbconvert_exporter": "python",
   "pygments_lexer": "ipython3",
   "version": "3.10.8 | packaged by conda-forge | (main, Nov 22 2022, 08:25:29) [Clang 14.0.6 ]"
  },
  "vscode": {
   "interpreter": {
    "hash": "3f20f5863f24dac35637d7f882b531b7edd6cd78621bb359b5b6d94a3de44fe0"
   }
  }
 },
 "nbformat": 4,
 "nbformat_minor": 2
}
